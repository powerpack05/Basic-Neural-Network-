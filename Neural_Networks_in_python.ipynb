{
  "cells": [
    {
      "cell_type": "code",
      "source": [
        "# mounting the google drive importing the library\n",
        "from google.colab import drive\n",
        "drive.mount('/content/drive')"
      ],
      "metadata": {
        "colab": {
          "base_uri": "https://localhost:8080/"
        },
        "id": "nn6i3EQ5d997",
        "outputId": "aa9823bf-2c6c-40ad-c96f-a919e0fd01f5"
      },
      "id": "nn6i3EQ5d997",
      "execution_count": 1,
      "outputs": [
        {
          "output_type": "stream",
          "name": "stdout",
          "text": [
            "Mounted at /content/drive\n"
          ]
        }
      ]
    },
    {
      "cell_type": "code",
      "source": [
        "%cd '/content/drive/MyDrive/Colab Notebooks/Basics of Dl/neural network hand written digit recognition'"
      ],
      "metadata": {
        "colab": {
          "base_uri": "https://localhost:8080/"
        },
        "id": "tjO29PsXeAjO",
        "outputId": "b2d824a1-107d-4f61-dafb-121e2069fdf8"
      },
      "id": "tjO29PsXeAjO",
      "execution_count": 2,
      "outputs": [
        {
          "output_type": "stream",
          "name": "stdout",
          "text": [
            "/content/drive/MyDrive/Colab Notebooks/Basics of Dl/neural network hand written digit recognition\n"
          ]
        }
      ]
    },
    {
      "cell_type": "markdown",
      "source": [
        "This Dataset is having train and test csv file and data is in the form of pixels ranges from 0 to 255 and the greater the number the lighter is the image and lower the number darker or gray in color basically these are gray scale i.e., 2D and along with train is having 1000 samples and test is having 350 samples of data with label csv files"
      ],
      "metadata": {
        "id": "V-pEeI03eHkK"
      },
      "id": "V-pEeI03eHkK"
    },
    {
      "cell_type": "code",
      "execution_count": 3,
      "id": "obvious-looking",
      "metadata": {
        "id": "obvious-looking"
      },
      "outputs": [],
      "source": [
        "import numpy as np\n",
        "import matplotlib.pyplot as plt\n",
        "import random"
      ]
    },
    {
      "cell_type": "code",
      "execution_count": 4,
      "id": "interracial-chess",
      "metadata": {
        "id": "interracial-chess"
      },
      "outputs": [],
      "source": [
        "X_train = np.loadtxt('train_X.csv', delimiter = ',').T\n",
        "Y_train = np.loadtxt('train_label.csv', delimiter = ',').T\n",
        "\n",
        "X_test = np.loadtxt('test_X.csv', delimiter = ',').T\n",
        "Y_test = np.loadtxt('test_label.csv', delimiter = ',').T"
      ]
    },
    {
      "cell_type": "code",
      "execution_count": 5,
      "id": "continental-paragraph",
      "metadata": {
        "colab": {
          "base_uri": "https://localhost:8080/"
        },
        "id": "continental-paragraph",
        "outputId": "bb24db73-803d-4f12-adb6-e76e82222702"
      },
      "outputs": [
        {
          "output_type": "stream",
          "name": "stdout",
          "text": [
            "shape of X_train : (784, 1000)\n",
            "shape of Y_train : (10, 1000)\n",
            "shape of X_test : (784, 350)\n",
            "shape of Y_test : (10, 350)\n"
          ]
        }
      ],
      "source": [
        "print(\"shape of X_train :\", X_train.shape)\n",
        "print(\"shape of Y_train :\", Y_train.shape)\n",
        "print(\"shape of X_test :\", X_test.shape)\n",
        "print(\"shape of Y_test :\", Y_test.shape)"
      ]
    },
    {
      "cell_type": "code",
      "execution_count": 6,
      "id": "certain-elizabeth",
      "metadata": {
        "colab": {
          "base_uri": "https://localhost:8080/",
          "height": 430
        },
        "id": "certain-elizabeth",
        "outputId": "74ad69b1-5c87-4e6e-d247-fc2cddadad49"
      },
      "outputs": [
        {
          "output_type": "display_data",
          "data": {
            "text/plain": [
              "<Figure size 640x480 with 1 Axes>"
            ],
            "image/png": "[encoded data removed]"
          },
          "metadata": {}
        }
      ],
      "source": [
        "index = random.randrange(0, X_train.shape[1])\n",
        "plt.imshow(X_train[:, index].reshape(28, 28), cmap = 'gray')\n",
        "plt.show()"
      ]
    },
    {
      "cell_type": "code",
      "source": [
        "labels_dictionary = {0:'Zero',\n",
        "                     1:'One',\n",
        "                     2:'Two',\n",
        "                     3:'Three',\n",
        "                     4:'Four',\n",
        "                     5:'Five',\n",
        "                     6:'Six',\n",
        "                     7:'Seven',\n",
        "                     8:'Eight',\n",
        "                     9:'Nine'}\n",
        "\n",
        "index_for_random_image = random.randrange(0,X_train.shape[1])\n",
        "label_index = Y_train[:,index_for_random_image]\n",
        "label_name = labels_dictionary[np.argmax(label_index)]\n",
        "plt.imshow(X_train[:,index_for_random_image].reshape(28,28),cmap='gray')\n",
        "plt.title(f'Label:-{label_name}')\n",
        "plt.axis('off')\n",
        "plt.show()"
      ],
      "metadata": {
        "colab": {
          "base_uri": "https://localhost:8080/",
          "height": 428
        },
        "id": "TycWBbzYeRSD",
        "outputId": "37f1e607-dc28-4b58-e792-cea5e6953ca5"
      },
      "id": "TycWBbzYeRSD",
      "execution_count": 7,
      "outputs": [
        {
          "output_type": "display_data",
          "data": {
            "text/plain": [
              "<Figure size 640x480 with 1 Axes>"
            ],
            "image/png": "[encoded data removed]"
          },
          "metadata": {}
        }
      ]
    },
    {
      "cell_type": "code",
      "source": [
        "# number_of_images_to_display = 5\n",
        "# for _ in range(number_of_images_to_display):\n",
        "#   index_for_random_image = random.randrange(0,X_train.shape[1])\n",
        "#   label_index = Y_train[:,index_for_random_image]\n",
        "#   label_name = labels_dictionary[np.argmax(label_index)]\n",
        "#   plt.imshow(X_train[:,index_for_random_image].reshape(28,28),cmap='gray')\n",
        "#   plt.title(f'Label:-{label_name}')\n",
        "#   plt.axis('off')\n",
        "#   plt.show()"
      ],
      "metadata": {
        "id": "GbQibrQaeRcE"
      },
      "id": "GbQibrQaeRcE",
      "execution_count": 8,
      "outputs": []
    },
    {
      "cell_type": "code",
      "source": [
        "number_images_to_display = 5\n",
        "unique_indices = set()\n",
        "\n",
        "# Generate unique random indices\n",
        "while len(unique_indices) < number_images_to_display:\n",
        "    unique_indices.add(random.randrange(0, X_train.shape[1]))\n",
        "plt.figure(figsize=(15,5))\n",
        "for i,index in enumerate(unique_indices):\n",
        "  plt.subplot(1,number_images_to_display,i+1)\n",
        "\n",
        "  label_name = labels_dictionary[np.argmax(Y_train[:,index])]\n",
        "  plt.imshow(X_train[:,index].reshape(28,28),cmap='gray')\n",
        "  plt.title(f'Label --> {label_name}')\n",
        "  plt.axis('off')\n",
        "plt.show()"
      ],
      "metadata": {
        "colab": {
          "base_uri": "https://localhost:8080/",
          "height": 253
        },
        "id": "q6d_ZjPpeRl0",
        "outputId": "3961f581-914a-4fa7-f3cc-ecd2d5a0980d"
      },
      "id": "q6d_ZjPpeRl0",
      "execution_count": 28,
      "outputs": [
        {
          "output_type": "display_data",
          "data": {
            "text/plain": [
              "<Figure size 1500x500 with 5 Axes>"
            ],
            "image/png": "[encoded data removed]"
          },
          "metadata": {}
        }
      ]
    },
    {
      "cell_type": "code",
      "source": [
        "number_images_to_display = 5\n",
        "unique_indices = set()\n",
        "\n",
        "# Generate unique random indices\n",
        "while len(unique_indices) < number_images_to_display:\n",
        "    unique_indices.add(random.randrange(0, X_test.shape[1]))\n",
        "plt.figure(figsize=(15,5))\n",
        "for i,index in enumerate(unique_indices):\n",
        "  plt.subplot(1,number_images_to_display,i+1)\n",
        "\n",
        "  label_name = labels_dictionary[np.argmax(Y_test[:,index])]\n",
        "  plt.imshow(X_test[:,index].reshape(28,28),cmap='gray')\n",
        "  plt.title(f'Label --> {label_name}')\n",
        "  plt.axis('off')\n",
        "plt.show()"
      ],
      "metadata": {
        "colab": {
          "base_uri": "https://localhost:8080/",
          "height": 253
        },
        "id": "pxEa3AfCecCv",
        "outputId": "f07db889-6fa0-4c45-c0c2-20478167cdb6"
      },
      "id": "pxEa3AfCecCv",
      "execution_count": 10,
      "outputs": [
        {
          "output_type": "display_data",
          "data": {
            "text/plain": [
              "<Figure size 1500x500 with 5 Axes>"
            ],
            "image/png": "[encoded data removed]"
          },
          "metadata": {}
        }
      ]
    },
    {
      "cell_type": "markdown",
      "id": "medical-wagner",
      "metadata": {
        "id": "medical-wagner"
      },
      "source": [
        "# Model\n",
        "\n",
        "![nn](Images/nn.png)\n",
        "\n",
        "## Initialize parameters Randomly\n",
        "$ W_1 = np.random.randn(n_1, n_0) $\n",
        "\n",
        "$ b_1 = np.zeros((n_1, 1))$\n",
        "\n",
        "$ W_2 = np.random.randn(n_2, n_1) $\n",
        "\n",
        "$ b_2 = np.zeros((n_2, 1))$\n",
        "\n",
        "\n",
        "## *Repeat Below Steps for many times : *\n",
        "\n",
        "\n",
        "## Forward Propagation\n",
        "\n",
        "$ Z_1 = W_1 * X + B_1 $\n",
        "\n",
        "$ A_1 = f ( Z_1 ) $  \n",
        "\n",
        "$ Z_2 = W2 * A_1 + B_2 $\n",
        "\n",
        "$ A_2 = Softmax( Z_2 ) $\n",
        "\n",
        "## Softmax\n",
        "\n",
        "$ a_i = \\frac{e^{z_i}}{\\sum_{i=k}^ne^{z_k}}$\n",
        "\n",
        "\n",
        "## Cost Function\n",
        "\n",
        "$Loss = - \\sum_{i=k}^{n}[ y_k*log(a_k) ]$\n",
        "\n",
        "$Cost = - \\frac{1}{m}\\sum_{i=1}^{m}\\sum_{k=1}^{n}[ y_k*log(a_k) ]$\n",
        "\n",
        "\n",
        "\n",
        "## Backward Propagation\n",
        "$dZ_2 = ( A_2 - Y )$\n",
        "\n",
        "$ dW_2 = \\frac{1}{m}. dZ_2 . A_1^T$\n",
        "\n",
        "$ dB_2 = \\frac{1}{m}.sum(dZ_2, 1)$\n",
        "\n",
        "\n",
        "\n",
        "$dZ_1 = W_2^T . dZ_2 * f_1^|(Z_1) $\n",
        "\n",
        "$dW_1 = \\frac{1}{m}.dZ_1.X^T$\n",
        "\n",
        "$dB_1 = \\frac{1}{m}.sum(dZ_1, 1)$\n",
        "\n",
        "\n",
        "## Updating Parameters\n",
        "\n",
        "$ W_2 = W_2 -  \\alpha * \\frac{\\partial Cost }{\\partial W_2}$\n",
        "\n",
        "$ B_2 = B_2 -  \\alpha * \\frac{\\partial Cost }{\\partial B_2}$\n",
        "\n",
        "$ W_1 = W_1 -  \\alpha * \\frac{\\partial Cost }{\\partial W_1}$\n",
        "\n",
        "$ B_1 = B_1 -  \\alpha * \\frac{\\partial Cost }{\\partial B_1}$\n"
      ]
    },
    {
      "cell_type": "code",
      "execution_count": 11,
      "id": "centered-tunnel",
      "metadata": {
        "id": "centered-tunnel"
      },
      "outputs": [],
      "source": [
        "def tanh(x):\n",
        "    return np.tanh(x)\n",
        "\n",
        "def relu(x):\n",
        "    return np.maximum(x, 0)\n",
        "\n",
        "def softmax(x):\n",
        "    expX = np.exp(x)\n",
        "    return expX/np.sum(expX, axis = 0)"
      ]
    },
    {
      "cell_type": "code",
      "execution_count": 12,
      "id": "functional-monthly",
      "metadata": {
        "id": "functional-monthly"
      },
      "outputs": [],
      "source": [
        "def derivative_tanh(x):\n",
        "    return (1 - np.power(np.tanh(x), 2))\n",
        "\n",
        "def derivative_relu(x):\n",
        "    return np.array(x > 0, dtype = np.float32)"
      ]
    },
    {
      "cell_type": "markdown",
      "id": "aggregate-collar",
      "metadata": {
        "id": "aggregate-collar"
      },
      "source": [
        "# Initialize Parameters\n",
        "\n",
        "### *Note I multiplied 0.01 with weights W. But, this is still large, and that is the reason we saw increase in Cost value at the beginning, while training the model with ReLU function.*\n",
        "\n",
        "### *So, instead, you can multiply with 0.001, and it will solve the problem.*"
      ]
    },
    {
      "cell_type": "code",
      "execution_count": 13,
      "id": "prepared-heritage",
      "metadata": {
        "id": "prepared-heritage"
      },
      "outputs": [],
      "source": [
        "def initialize_parameters(n_x, n_h, n_y):\n",
        "    w1 = np.random.randn(n_h, n_x)*0.01\n",
        "    b1 = np.zeros((n_h, 1))\n",
        "\n",
        "    w2 = np.random.randn(n_y, n_h)*0.01\n",
        "    b2 = np.zeros((n_y, 1))\n",
        "\n",
        "    parameters = {\n",
        "        \"w1\" : w1,\n",
        "        \"b1\" : b1,\n",
        "        \"w2\" : w2,\n",
        "        \"b2\" : b2\n",
        "    }\n",
        "\n",
        "    return parameters"
      ]
    },
    {
      "cell_type": "markdown",
      "id": "cubic-thailand",
      "metadata": {
        "id": "cubic-thailand"
      },
      "source": [
        "# Forward Propagation\n",
        "\n",
        "$ Z_1 = W_1 * X + B_1 $\n",
        "\n",
        "$ A_1 = f ( Z_1 ) $  \n",
        "\n",
        "$ Z_2 = W2 * A_1 + B_2 $\n",
        "\n",
        "$ A_2 = Softmax( Z_2 ) $"
      ]
    },
    {
      "cell_type": "code",
      "execution_count": 14,
      "id": "voluntary-sigma",
      "metadata": {
        "id": "voluntary-sigma"
      },
      "outputs": [],
      "source": [
        "def forward_propagation(x, parameters):\n",
        "\n",
        "    w1 = parameters['w1']\n",
        "    b1 = parameters['b1']\n",
        "    w2 = parameters['w2']\n",
        "    b2 = parameters['b2']\n",
        "\n",
        "    z1 = np.dot(w1, x) + b1\n",
        "    a1 = tanh(z1)\n",
        "\n",
        "    z2 = np.dot(w2, a1) + b2\n",
        "    a2 = softmax(z2)\n",
        "\n",
        "    forward_cache = {\n",
        "        \"z1\" : z1,\n",
        "        \"a1\" : a1,\n",
        "        \"z2\" : z2,\n",
        "        \"a2\" : a2\n",
        "    }\n",
        "\n",
        "    return forward_cache"
      ]
    },
    {
      "cell_type": "markdown",
      "id": "lined-charger",
      "metadata": {
        "id": "lined-charger"
      },
      "source": [
        "# Cost Function\n",
        "\n",
        "$Cost = - \\frac{1}{m}\\sum_{i=1}^{m}\\sum_{k=1}^{n}[ y_k*log(a_k) ]$"
      ]
    },
    {
      "cell_type": "code",
      "execution_count": 15,
      "id": "legendary-playback",
      "metadata": {
        "id": "legendary-playback"
      },
      "outputs": [],
      "source": [
        "def cost_function(a2, y):\n",
        "    m = y.shape[1]\n",
        "\n",
        "    cost = -(1/m)*np.sum(y*np.log(a2))\n",
        "\n",
        "    #cost = -(1/m)*np.sum(np.sum(y*np.log(a2, 0), 1))\n",
        "\n",
        "    return cost"
      ]
    },
    {
      "cell_type": "markdown",
      "id": "present-easter",
      "metadata": {
        "id": "present-easter"
      },
      "source": [
        "# Backpropagation\n",
        "\n",
        "$dZ_2 = ( A_2 - Y )$\n",
        "\n",
        "$ dW_2 = \\frac{1}{m}. dZ_2 . A_1^T$\n",
        "\n",
        "$ dB_2 = \\frac{1}{m}.sum(dZ_2, 1)$\n",
        "\n",
        "\n",
        "\n",
        "$dZ_1 = W_2^T . dZ_2 * f_1^|(Z_1) $\n",
        "\n",
        "$dW_1 = \\frac{1}{m}.dZ_1.X^T$\n",
        "\n",
        "$dB_1 = \\frac{1}{m}.sum(dZ_1, 1)$"
      ]
    },
    {
      "cell_type": "code",
      "execution_count": 16,
      "id": "weird-lyric",
      "metadata": {
        "id": "weird-lyric"
      },
      "outputs": [],
      "source": [
        "def backward_prop(x, y, parameters, forward_cache):\n",
        "\n",
        "    w1 = parameters['w1']\n",
        "    b1 = parameters['b1']\n",
        "    w2 = parameters['w2']\n",
        "    b2 = parameters['b2']\n",
        "\n",
        "    a1 = forward_cache['a1']\n",
        "    a2 = forward_cache['a2']\n",
        "\n",
        "    m = x.shape[1]\n",
        "\n",
        "    dz2 = (a2 - y)\n",
        "    dw2 = (1/m)*np.dot(dz2, a1.T)\n",
        "    db2 = (1/m)*np.sum(dz2, axis = 1, keepdims = True)\n",
        "\n",
        "    dz1 = (1/m)*np.dot(w2.T, dz2)*derivative_tanh(a1)\n",
        "    dw1 = (1/m)*np.dot(dz1, x.T)\n",
        "    db1 = (1/m)*np.sum(dz1, axis = 1, keepdims = True)\n",
        "\n",
        "    gradients = {\n",
        "        \"dw1\" : dw1,\n",
        "        \"db1\" : db1,\n",
        "        \"dw2\" : dw2,\n",
        "        \"db2\" : db2\n",
        "    }\n",
        "\n",
        "    return gradients"
      ]
    },
    {
      "cell_type": "markdown",
      "id": "capital-hostel",
      "metadata": {
        "id": "capital-hostel"
      },
      "source": [
        "# Update Parameters"
      ]
    },
    {
      "cell_type": "code",
      "execution_count": 17,
      "id": "written-sullivan",
      "metadata": {
        "id": "written-sullivan"
      },
      "outputs": [],
      "source": [
        "def update_parameters(parameters, gradients, learning_rate):\n",
        "\n",
        "    w1 = parameters['w1']\n",
        "    b1 = parameters['b1']\n",
        "    w2 = parameters['w2']\n",
        "    b2 = parameters['b2']\n",
        "\n",
        "    dw1 = gradients['dw1']\n",
        "    db1 = gradients['db1']\n",
        "    dw2 = gradients['dw2']\n",
        "    db2 = gradients['db2']\n",
        "\n",
        "    w1 = w1 - learning_rate*dw1\n",
        "    b1 = b1 - learning_rate*db1\n",
        "    w2 = w2 - learning_rate*dw2\n",
        "    b2 = b2 - learning_rate*db2\n",
        "\n",
        "    parameters = {\n",
        "        \"w1\" : w1,\n",
        "        \"b1\" : b1,\n",
        "        \"w2\" : w2,\n",
        "        \"b2\" : b2\n",
        "    }\n",
        "\n",
        "    return parameters"
      ]
    },
    {
      "cell_type": "markdown",
      "id": "intelligent-julian",
      "metadata": {
        "id": "intelligent-julian"
      },
      "source": [
        "# Complete Model"
      ]
    },
    {
      "cell_type": "code",
      "execution_count": 25,
      "id": "dietary-capacity",
      "metadata": {
        "id": "dietary-capacity"
      },
      "outputs": [],
      "source": [
        "def model(x, y, n_h, learning_rate, iterations):\n",
        "\n",
        "    n_x = x.shape[0]\n",
        "    n_y = y.shape[0]\n",
        "\n",
        "    cost_list = []\n",
        "\n",
        "    parameters = initialize_parameters(n_x, n_h, n_y)\n",
        "\n",
        "    for i in range(iterations):\n",
        "\n",
        "        forward_cache = forward_propagation(x, parameters)\n",
        "\n",
        "        cost = cost_function(forward_cache['a2'], y)\n",
        "\n",
        "        gradients = backward_prop(x, y, parameters, forward_cache)\n",
        "\n",
        "        parameters = update_parameters(parameters, gradients, learning_rate)\n",
        "\n",
        "        cost_list.append(cost)\n",
        "\n",
        "        if(i%(iterations/10) == 0):\n",
        "            print(\"Cost after\", i, \"iterations is :\", cost)\n",
        "\n",
        "    return parameters, cost_list"
      ]
    },
    {
      "cell_type": "code",
      "execution_count": 26,
      "id": "integral-credit",
      "metadata": {
        "colab": {
          "base_uri": "https://localhost:8080/"
        },
        "id": "integral-credit",
        "outputId": "f67cf975-c50b-4ed0-bd0b-0187fd5fcfeb"
      },
      "outputs": [
        {
          "output_type": "stream",
          "name": "stdout",
          "text": [
            "Cost after 0 iterations is : 2.375301495241014\n",
            "Cost after 50 iterations is : 0.4791861759769226\n",
            "Cost after 100 iterations is : 0.3049019470158384\n",
            "Cost after 150 iterations is : 0.22453102496914681\n",
            "Cost after 200 iterations is : 0.17545398032951587\n",
            "Cost after 250 iterations is : 0.1420218992696958\n",
            "Cost after 300 iterations is : 0.11793964285851564\n",
            "Cost after 350 iterations is : 0.0999807741899534\n",
            "Cost after 400 iterations is : 0.08623084158011489\n",
            "Cost after 450 iterations is : 0.0754664874607379\n"
          ]
        }
      ],
      "source": [
        "iterations = 500\n",
        "n_h = 1000\n",
        "learning_rate = 0.02\n",
        "Parameters, Cost_list = model(X_train, Y_train, n_h = n_h, learning_rate = learning_rate, iterations = iterations)"
      ]
    },
    {
      "cell_type": "code",
      "execution_count": 27,
      "id": "italian-graph",
      "metadata": {
        "colab": {
          "base_uri": "https://localhost:8080/",
          "height": 430
        },
        "id": "italian-graph",
        "outputId": "cea72bae-8bdc-47a6-8582-11a9118b3996"
      },
      "outputs": [
        {
          "output_type": "display_data",
          "data": {
            "text/plain": [
              "<Figure size 640x480 with 1 Axes>"
            ],
            "image/png": "[encoded data removed]"
          },
          "metadata": {}
        }
      ],
      "source": [
        "t = np.arange(0, iterations)\n",
        "plt.plot(t, Cost_list)\n",
        "plt.show()"
      ]
    },
    {
      "cell_type": "code",
      "execution_count": 21,
      "id": "french-design",
      "metadata": {
        "id": "french-design"
      },
      "outputs": [],
      "source": [
        "def accuracy(inp, labels, parameters):\n",
        "    forward_cache = forward_propagation(inp, parameters)\n",
        "    a_out = forward_cache['a2']   # containes propabilities with shape(10, 1)\n",
        "\n",
        "    a_out = np.argmax(a_out, 0)  # 0 represents row wise\n",
        "\n",
        "    labels = np.argmax(labels, 0)\n",
        "\n",
        "    acc = np.mean(a_out == labels)*100\n",
        "\n",
        "    return acc"
      ]
    },
    {
      "cell_type": "code",
      "execution_count": 22,
      "id": "mexican-jamaica",
      "metadata": {
        "colab": {
          "base_uri": "https://localhost:8080/"
        },
        "id": "mexican-jamaica",
        "outputId": "66398517-402b-4ecf-f1a8-33b0a0326788"
      },
      "outputs": [
        {
          "output_type": "stream",
          "name": "stdout",
          "text": [
            "Accuracy of Train Dataset 96.5 %\n",
            "Accuracy of Test Dataset 86.0 %\n"
          ]
        }
      ],
      "source": [
        "print(\"Accuracy of Train Dataset\", accuracy(X_train, Y_train, Parameters), \"%\")\n",
        "print(\"Accuracy of Test Dataset\", round(accuracy(X_test, Y_test, Parameters), 2), \"%\")"
      ]
    },
    {
      "cell_type": "code",
      "execution_count": 24,
      "id": "finished-superintendent",
      "metadata": {
        "colab": {
          "base_uri": "https://localhost:8080/",
          "height": 448
        },
        "id": "finished-superintendent",
        "outputId": "6776441e-d5cf-4f62-b3dc-6fa79bce06dd"
      },
      "outputs": [
        {
          "output_type": "display_data",
          "data": {
            "text/plain": [
              "<Figure size 640x480 with 1 Axes>"
            ],
            "image/png": "[encoded data removed]"
          },
          "metadata": {}
        },
        {
          "output_type": "stream",
          "name": "stdout",
          "text": [
            "Our model says it is : 1\n"
          ]
        }
      ],
      "source": [
        "idx = int(random.randrange(0,X_test.shape[1]))\n",
        "plt.imshow(X_test[:, idx].reshape((28,28)),cmap='gray')\n",
        "plt.show()\n",
        "\n",
        "cache = forward_propagation(X_test[:, idx].reshape(X_test[:, idx].shape[0], 1), Parameters)\n",
        "a_pred = cache['a2']\n",
        "a_pred = np.argmax(a_pred, 0)\n",
        "\n",
        "print(\"Our model says it is :\", a_pred[0])"
      ]
    }
  ],
  "metadata": {
    "kernelspec": {
      "display_name": "Python 3",
      "name": "python3"
    },
    "language_info": {
      "codemirror_mode": {
        "name": "ipython",
        "version": 3
      },
      "file_extension": ".py",
      "mimetype": "text/x-python",
      "name": "python",
      "nbconvert_exporter": "python",
      "pygments_lexer": "ipython3",
      "version": "3.9.1"
    },
    "colab": {
      "provenance": [],
      "gpuType": "T4"
    },
    "accelerator": "GPU"
  },
  "nbformat": 4,
  "nbformat_minor": 5
}